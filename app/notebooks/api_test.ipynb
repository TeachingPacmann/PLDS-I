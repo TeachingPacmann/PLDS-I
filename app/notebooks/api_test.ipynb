{
 "cells": [
  {
   "cell_type": "code",
   "execution_count": 2,
   "metadata": {},
   "outputs": [],
   "source": [
    "import requests"
   ]
  },
  {
   "cell_type": "code",
   "execution_count": 3,
   "metadata": {},
   "outputs": [
    {
     "name": "stdout",
     "output_type": "stream",
     "text": [
      "{\"result\":\"Toxic\",\"proba\":0.7031674563650162,\"message\":\"\"}\n"
     ]
    }
   ],
   "source": [
    "url = 'http://127.0.0.1:8000/predict/'\n",
    "data = {'text': \"fuck fuck fuck you cunt, you can't do anything but whining, you useless trash piece of shit.\"}\n",
    "\n",
    "res = requests.post(url, data = data, headers={'x-token': 'passowrd_plds'})\n",
    "\n",
    "print(res.text)"
   ]
  },
  {
   "cell_type": "code",
   "execution_count": null,
   "metadata": {},
   "outputs": [],
   "source": []
  }
 ],
 "metadata": {
  "interpreter": {
   "hash": "928ce5cf209611af6a388696bcfe87eba079b0aabd73623f919ffdc6737bdd6d"
  },
  "kernelspec": {
   "display_name": "Python 3.9.13 ('venv_plds': venv)",
   "language": "python",
   "name": "python3"
  },
  "language_info": {
   "codemirror_mode": {
    "name": "ipython",
    "version": 3
   },
   "file_extension": ".py",
   "mimetype": "text/x-python",
   "name": "python",
   "nbconvert_exporter": "python",
   "pygments_lexer": "ipython3",
   "version": "3.9.13"
  },
  "orig_nbformat": 4
 },
 "nbformat": 4,
 "nbformat_minor": 2
}
